{
 "cells": [
  {
   "cell_type": "code",
   "execution_count": 10,
   "metadata": {},
   "outputs": [
    {
     "name": "stdout",
     "output_type": "stream",
     "text": [
      "Epoch: 5 (4/10) Loss: 1.000 | Acc: 4.864 (12/257) | Lr: 0.23232\n"
     ]
    }
   ],
   "source": [
    "epoch = 5\n",
    "loader = [1, 2, 3, 4, 5, 6, 7, 8, 9, 10]\n",
    "train_loss = 5\n",
    "batch_idx = 4\n",
    "correct = 12.5\n",
    "total = 257\n",
    "current_lr = 0.23232332\n",
    "\n",
    "print(\n",
    "    f\"Epoch: {epoch}\",\n",
    "    f\"({batch_idx}/{len(loader)})\",\n",
    "    f\"Loss: {train_loss / (batch_idx + 1):0.3f}\",\n",
    "    f\"| Acc: {100.0 * correct / total:0.3f} ({int(correct)}/{int(total)})\",\n",
    "    f\"| Lr: {current_lr:0.5f}\",\n",
    ")"
   ]
  },
  {
   "cell_type": "code",
   "execution_count": 26,
   "metadata": {},
   "outputs": [
    {
     "name": "stdout",
     "output_type": "stream",
     "text": [
      "test\n",
      "./checkpoints/test_c_b\n",
      "./checkpoints/test_c_b\n",
      "./checkpoints/test_c_b\n"
     ]
    }
   ],
   "source": [
    "args = {}\n",
    "args[\"train_data_name\"] = \"test\"\n",
    "args[\"arch\"] = \"c\"\n",
    "args[\"num_classes\"] = \"b\"\n",
    "print(args[\"train_data_name\"])\n",
    "print(\"./checkpoints/{}\".format(args[\"train_data_name\"] + \"_\" + args[\"arch\"] + \"_\" + str(args[\"num_classes\"])))\n",
    "print(f\"./checkpoints/{args['train_data_name']}_{args['arch']}_{str(args['num_classes'])}\")\n",
    "save_dir_path = print(f\"./checkpoints/{args['train_data_name']}_{args['arch']}_{str(args['num_classes'])}\")\n",
    "save_dir_path"
   ]
  },
  {
   "cell_type": "code",
   "execution_count": 32,
   "metadata": {},
   "outputs": [
    {
     "name": "stdout",
     "output_type": "stream",
     "text": [
      "0\n"
     ]
    },
    {
     "ename": "ValueError",
     "evalue": "Unknown dataset: test",
     "output_type": "error",
     "traceback": [
      "\u001b[0;31m---------------------------------------------------------------------------\u001b[0m",
      "\u001b[0;31mValueError\u001b[0m                                Traceback (most recent call last)",
      "Cell \u001b[0;32mIn[32], line 12\u001b[0m\n\u001b[1;32m      8\u001b[0m         \u001b[38;5;28;01mraise\u001b[39;00m \u001b[38;5;167;01mValueError\u001b[39;00m(\u001b[38;5;124m\"\u001b[39m\u001b[38;5;124mUnknown dataset\u001b[39m\u001b[38;5;124m\"\u001b[39m)\n\u001b[1;32m     11\u001b[0m dataname \u001b[38;5;241m=\u001b[39m \u001b[38;5;124m\"\u001b[39m\u001b[38;5;124mtest\u001b[39m\u001b[38;5;124m\"\u001b[39m\n\u001b[0;32m---> 12\u001b[0m \u001b[43mtest\u001b[49m\u001b[43m(\u001b[49m\u001b[43mdataname\u001b[49m\u001b[43m)\u001b[49m\n",
      "Cell \u001b[0;32mIn[32], line 4\u001b[0m, in \u001b[0;36mtest\u001b[0;34m(dataname)\u001b[0m\n\u001b[1;32m      2\u001b[0m \u001b[38;5;28;01mif\u001b[39;00m dataname \u001b[38;5;129;01min\u001b[39;00m [\u001b[38;5;124m\"\u001b[39m\u001b[38;5;124mentity13\u001b[39m\u001b[38;5;124m\"\u001b[39m, \u001b[38;5;124m\"\u001b[39m\u001b[38;5;124mentity30\u001b[39m\u001b[38;5;124m\"\u001b[39m, \u001b[38;5;124m\"\u001b[39m\u001b[38;5;124mliving17\u001b[39m\u001b[38;5;124m\"\u001b[39m, \u001b[38;5;124m\"\u001b[39m\u001b[38;5;124mnonliving26\u001b[39m\u001b[38;5;124m\"\u001b[39m, \u001b[38;5;124m\"\u001b[39m\u001b[38;5;124mtest\u001b[39m\u001b[38;5;124m\"\u001b[39m]:\n\u001b[1;32m      3\u001b[0m     \u001b[38;5;28mprint\u001b[39m(\u001b[38;5;241m0\u001b[39m)\n\u001b[0;32m----> 4\u001b[0m     \u001b[38;5;28;01mraise\u001b[39;00m \u001b[38;5;167;01mValueError\u001b[39;00m(\u001b[38;5;124mf\u001b[39m\u001b[38;5;124m\"\u001b[39m\u001b[38;5;124mUnknown dataset: \u001b[39m\u001b[38;5;132;01m{\u001b[39;00mdataname\u001b[38;5;132;01m}\u001b[39;00m\u001b[38;5;124m\"\u001b[39m)\n\u001b[1;32m      5\u001b[0m \u001b[38;5;28;01melif\u001b[39;00m dataname \u001b[38;5;129;01min\u001b[39;00m [\u001b[38;5;124m\"\u001b[39m\u001b[38;5;124mok\u001b[39m\u001b[38;5;124m\"\u001b[39m]:\n\u001b[1;32m      6\u001b[0m     \u001b[38;5;28mprint\u001b[39m(\u001b[38;5;241m1\u001b[39m)\n",
      "\u001b[0;31mValueError\u001b[0m: Unknown dataset: test"
     ]
    }
   ],
   "source": [
    "def test(dataname):\n",
    "    if dataname in [\"entity13\", \"entity30\", \"living17\", \"nonliving26\", \"test\"]:\n",
    "        print(0)\n",
    "        raise ValueError(f\"Unknown dataset: {dataname}\")\n",
    "    elif dataname in [\"ok\"]:\n",
    "        print(1)\n",
    "    else:\n",
    "        raise ValueError(\"Unknown dataset\")\n",
    "\n",
    "\n",
    "dataname = \"test\"\n",
    "test(dataname)"
   ]
  },
  {
   "cell_type": "code",
   "execution_count": 5,
   "metadata": {},
   "outputs": [
    {
     "ename": "AssertionError",
     "evalue": "Error: datatype should be eiter train or test.",
     "output_type": "error",
     "traceback": [
      "\u001b[0;31m---------------------------------------------------------------------------\u001b[0m",
      "\u001b[0;31mAssertionError\u001b[0m                            Traceback (most recent call last)",
      "Cell \u001b[0;32mIn[5], line 2\u001b[0m\n\u001b[1;32m      1\u001b[0m datatype \u001b[38;5;241m=\u001b[39m \u001b[38;5;241m0\u001b[39m\n\u001b[0;32m----> 2\u001b[0m \u001b[38;5;28;01massert\u001b[39;00m datatype \u001b[38;5;129;01min\u001b[39;00m [\u001b[38;5;124m\"\u001b[39m\u001b[38;5;124mtrain\u001b[39m\u001b[38;5;124m\"\u001b[39m, \u001b[38;5;124m\"\u001b[39m\u001b[38;5;124mtest\u001b[39m\u001b[38;5;124m\"\u001b[39m], \u001b[38;5;124m\"\u001b[39m\u001b[38;5;124mError: datatype should be eiter train or test.\u001b[39m\u001b[38;5;124m\"\u001b[39m\n",
      "\u001b[0;31mAssertionError\u001b[0m: Error: datatype should be eiter train or test."
     ]
    }
   ],
   "source": [
    "datatype = 0\n",
    "assert datatype in [\"train\", \"test\"], \"Error: datatype should be train or test.\""
   ]
  },
  {
   "cell_type": "code",
   "execution_count": 10,
   "metadata": {},
   "outputs": [
    {
     "data": {
      "text/plain": [
       "(Compose(\n",
       "     ToTensor()\n",
       "     Lambda()\n",
       " ),\n",
       " Compose(\n",
       "     ToTensor()\n",
       "     Lambda()\n",
       " ))"
      ]
     },
     "execution_count": 10,
     "metadata": {},
     "output_type": "execute_result"
    }
   ],
   "source": [
    "import torch\n",
    "import torchvision.transforms as transforms\n",
    "import torchvision.transforms.functional as TF\n",
    "\n",
    "training_flag = False\n",
    "\n",
    "\n",
    "def standardize(x: torch.Tensor) -> torch.Tensor:\n",
    "    mean = x.mean(dim=(1, 2))\n",
    "    std = x.std(dim=(1, 2))\n",
    "    std[std == 0.0] = 1.0\n",
    "    return TF.normalize(x, mean, std)\n",
    "\n",
    "\n",
    "t_standardize = transforms.Lambda(lambda x: standardize(x))\n",
    "t_standardize1 = transforms.Lambda(standardize)\n",
    "angles = [0, 90, 180, 270]\n",
    "\n",
    "\n",
    "def random_rotation(x: torch.Tensor) -> torch.Tensor:\n",
    "    angle = angles[torch.randint(low=0, high=len(angles), size=(1,))]\n",
    "    if angle > 0:\n",
    "        x = TF.rotate(x, angle)\n",
    "    return x\n",
    "\n",
    "\n",
    "t_random_rotation = transforms.Lambda(lambda x: random_rotation(x))\n",
    "t_random_rotation1 = transforms.Lambda(random_rotation)\n",
    "if training_flag:\n",
    "    transforms_ls = [\n",
    "        t_random_rotation,\n",
    "        transforms.RandomHorizontalFlip(),\n",
    "        transforms.ToTensor(),\n",
    "        t_standardize,\n",
    "    ]\n",
    "    transforms_ls1 = [\n",
    "        t_random_rotation1,\n",
    "        transforms.RandomHorizontalFlip(),\n",
    "        transforms.ToTensor(),\n",
    "        t_standardize,\n",
    "    ]\n",
    "else:\n",
    "    transforms_ls = [\n",
    "        transforms.ToTensor(),\n",
    "        t_standardize,\n",
    "    ]\n",
    "    transforms_ls1 = [\n",
    "        transforms.ToTensor(),\n",
    "        t_standardize1,\n",
    "    ]\n",
    "transform = transforms.Compose(transforms_ls)\n",
    "transform1 = transforms.Compose(transforms_ls1)\n",
    "x = torch.zero_(torch.randn(3, 3, 3))\n",
    "transform, transform1"
   ]
  },
  {
   "cell_type": "code",
   "execution_count": null,
   "metadata": {},
   "outputs": [],
   "source": []
  }
 ],
 "metadata": {
  "kernelspec": {
   "display_name": "mano",
   "language": "python",
   "name": "python3"
  },
  "language_info": {
   "codemirror_mode": {
    "name": "ipython",
    "version": 3
   },
   "file_extension": ".py",
   "mimetype": "text/x-python",
   "name": "python",
   "nbconvert_exporter": "python",
   "pygments_lexer": "ipython3",
   "version": "3.9.0"
  }
 },
 "nbformat": 4,
 "nbformat_minor": 2
}
